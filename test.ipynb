{
 "cells": [
  {
   "cell_type": "code",
   "execution_count": 2,
   "metadata": {},
   "outputs": [],
   "source": [
    "import pandas as pd\n",
    "import glob\n",
    "import datetime as dt"
   ]
  },
  {
   "cell_type": "code",
   "execution_count": 4,
   "metadata": {},
   "outputs": [],
   "source": [
    "# 検証する通貨のデータを選択\n",
    "for currency in ['USDJPY','EURJPY','GBPJPY','AUDJPY','NZDJPY','CADJPY','CHFJPY','AUDUSD','EURUSD','GBPUSD','NZDUSD']:\n",
    "    \n",
    "    #currency = 'USDJPY'\n",
    "    file = [i for i in glob.glob('../10minute_data/*.csv') if currency in i]\n",
    "    # データの結合\n",
    "    df_concat = pd.DataFrame()\n",
    "    for i in file:\n",
    "        df = pd.read_csv(i,encoding='cp932')\n",
    "        df_concat = pd.concat([df_concat,df])\n",
    "    # 重複削除\n",
    "    df_concat.drop_duplicates(inplace=True)\n",
    "    # 日付順にsort\n",
    "    df_concat.sort_values('日付',inplace=True)\n",
    "    # index 振り直し\n",
    "    df_concat.reset_index(inplace=True,drop=True)\n",
    "    # datetime 型\n",
    "    df_concat['DT'] = pd.to_datetime(df_concat['日付'], format='%Y年%m月%d日 %H:%M')\n",
    "    # 月情報追加\n",
    "    df_concat['month'] = [date.month for date in df_concat['DT']]\n",
    "    #月ごとにcsv保存\n",
    "    for i in range(1,6):\n",
    "\n",
    "        df_branch = df_concat[df_concat['month']==i]\n",
    "        if len(df_branch) != 0:\n",
    "            df_branch.to_csv(f'../10minute_data/{i}/{currency}.csv',index=False)"
   ]
  },
  {
   "cell_type": "code",
   "execution_count": 5,
   "metadata": {},
   "outputs": [
    {
     "data": {
      "text/plain": [
       "129.405"
      ]
     },
     "execution_count": 5,
     "metadata": {},
     "output_type": "execute_result"
    }
   ],
   "source": [
    "df['高値'].max()"
   ]
  },
  {
   "cell_type": "code",
   "execution_count": null,
   "metadata": {},
   "outputs": [],
   "source": []
  },
  {
   "cell_type": "code",
   "execution_count": null,
   "metadata": {},
   "outputs": [],
   "source": []
  },
  {
   "cell_type": "code",
   "execution_count": null,
   "metadata": {},
   "outputs": [],
   "source": []
  }
 ],
 "metadata": {
  "interpreter": {
   "hash": "4eaf1be304415beee96765ae99c3f893cc8312c7f1196698e6029668e9aeb3e5"
  },
  "kernelspec": {
   "display_name": "Python 3.7.9 64-bit",
   "language": "python",
   "name": "python3"
  },
  "language_info": {
   "codemirror_mode": {
    "name": "ipython",
    "version": 3
   },
   "file_extension": ".py",
   "mimetype": "text/x-python",
   "name": "python",
   "nbconvert_exporter": "python",
   "pygments_lexer": "ipython3",
   "version": "3.9.6"
  },
  "orig_nbformat": 4
 },
 "nbformat": 4,
 "nbformat_minor": 2
}
