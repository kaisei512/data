{
 "cells": [
  {
   "cell_type": "code",
   "execution_count": 1,
   "metadata": {},
   "outputs": [],
   "source": [
    "import pandas as pd"
   ]
  },
  {
   "cell_type": "code",
   "execution_count": 4,
   "metadata": {},
   "outputs": [
    {
     "data": {
      "text/html": [
       "<div>\n",
       "<style scoped>\n",
       "    .dataframe tbody tr th:only-of-type {\n",
       "        vertical-align: middle;\n",
       "    }\n",
       "\n",
       "    .dataframe tbody tr th {\n",
       "        vertical-align: top;\n",
       "    }\n",
       "\n",
       "    .dataframe thead th {\n",
       "        text-align: right;\n",
       "    }\n",
       "</style>\n",
       "<table border=\"1\" class=\"dataframe\">\n",
       "  <thead>\n",
       "    <tr style=\"text-align: right;\">\n",
       "      <th></th>\n",
       "      <th>日付</th>\n",
       "      <th>始値</th>\n",
       "      <th>高値</th>\n",
       "      <th>安値</th>\n",
       "      <th>終値</th>\n",
       "    </tr>\n",
       "  </thead>\n",
       "  <tbody>\n",
       "    <tr>\n",
       "      <th>0</th>\n",
       "      <td>2022年04月19日 07:00</td>\n",
       "      <td>127.086</td>\n",
       "      <td>127.123</td>\n",
       "      <td>127.003</td>\n",
       "      <td>127.085</td>\n",
       "    </tr>\n",
       "    <tr>\n",
       "      <th>1</th>\n",
       "      <td>2022年04月19日 08:00</td>\n",
       "      <td>127.085</td>\n",
       "      <td>127.220</td>\n",
       "      <td>127.052</td>\n",
       "      <td>127.138</td>\n",
       "    </tr>\n",
       "    <tr>\n",
       "      <th>2</th>\n",
       "      <td>2022年04月19日 09:00</td>\n",
       "      <td>127.139</td>\n",
       "      <td>127.355</td>\n",
       "      <td>126.984</td>\n",
       "      <td>127.305</td>\n",
       "    </tr>\n",
       "    <tr>\n",
       "      <th>3</th>\n",
       "      <td>2022年04月19日 10:00</td>\n",
       "      <td>127.310</td>\n",
       "      <td>127.545</td>\n",
       "      <td>127.255</td>\n",
       "      <td>127.502</td>\n",
       "    </tr>\n",
       "    <tr>\n",
       "      <th>4</th>\n",
       "      <td>2022年04月19日 11:00</td>\n",
       "      <td>127.508</td>\n",
       "      <td>127.807</td>\n",
       "      <td>127.457</td>\n",
       "      <td>127.728</td>\n",
       "    </tr>\n",
       "  </tbody>\n",
       "</table>\n",
       "</div>"
      ],
      "text/plain": [
       "                  日付       始値       高値       安値       終値\n",
       "0  2022年04月19日 07:00  127.086  127.123  127.003  127.085\n",
       "1  2022年04月19日 08:00  127.085  127.220  127.052  127.138\n",
       "2  2022年04月19日 09:00  127.139  127.355  126.984  127.305\n",
       "3  2022年04月19日 10:00  127.310  127.545  127.255  127.502\n",
       "4  2022年04月19日 11:00  127.508  127.807  127.457  127.728"
      ]
     },
     "execution_count": 4,
     "metadata": {},
     "output_type": "execute_result"
    }
   ],
   "source": [
    "df = pd.read_csv('USDJPY.csv',encoding='cp932')\n",
    "df.head()"
   ]
  },
  {
   "cell_type": "code",
   "execution_count": 5,
   "metadata": {},
   "outputs": [
    {
     "data": {
      "text/plain": [
       "129.405"
      ]
     },
     "execution_count": 5,
     "metadata": {},
     "output_type": "execute_result"
    }
   ],
   "source": [
    "df['高値'].max()"
   ]
  },
  {
   "cell_type": "code",
   "execution_count": null,
   "metadata": {},
   "outputs": [],
   "source": []
  },
  {
   "cell_type": "code",
   "execution_count": null,
   "metadata": {},
   "outputs": [],
   "source": []
  },
  {
   "cell_type": "code",
   "execution_count": null,
   "metadata": {},
   "outputs": [],
   "source": []
  }
 ],
 "metadata": {
  "interpreter": {
   "hash": "4eaf1be304415beee96765ae99c3f893cc8312c7f1196698e6029668e9aeb3e5"
  },
  "kernelspec": {
   "display_name": "Python 3.7.9 64-bit",
   "language": "python",
   "name": "python3"
  },
  "language_info": {
   "codemirror_mode": {
    "name": "ipython",
    "version": 3
   },
   "file_extension": ".py",
   "mimetype": "text/x-python",
   "name": "python",
   "nbconvert_exporter": "python",
   "pygments_lexer": "ipython3",
   "version": "3.7.9"
  },
  "orig_nbformat": 4
 },
 "nbformat": 4,
 "nbformat_minor": 2
}
