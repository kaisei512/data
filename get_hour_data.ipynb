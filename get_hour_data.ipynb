{
 "cells": [
  {
   "cell_type": "code",
   "execution_count": 1,
   "metadata": {},
   "outputs": [],
   "source": [
    "from selenium import webdriver\n",
    "from selenium.webdriver.support.select import Select\n",
    "from selenium.webdriver.common.keys import Keys\n",
    "from time import sleep"
   ]
  },
  {
   "cell_type": "code",
   "execution_count": 2,
   "metadata": {},
   "outputs": [
    {
     "name": "stderr",
     "output_type": "stream",
     "text": [
      "C:\\Users\\klay1\\AppData\\Local\\Temp\\ipykernel_11880\\331050359.py:2: DeprecationWarning: executable_path has been deprecated, please pass in a Service object\n",
      "  driver = webdriver.Chrome('C:/Users/klay1/chromedriver')\n",
      "C:\\Users\\klay1\\AppData\\Local\\Temp\\ipykernel_11880\\331050359.py:6: DeprecationWarning: find_element_by_* commands are deprecated. Please use find_element() instead\n",
      "  texts = driver.find_element_by_name('username')\n",
      "C:\\Users\\klay1\\AppData\\Local\\Temp\\ipykernel_11880\\331050359.py:8: DeprecationWarning: find_element_by_* commands are deprecated. Please use find_element() instead\n",
      "  texts = driver.find_element_by_name('password')\n",
      "C:\\Users\\klay1\\AppData\\Local\\Temp\\ipykernel_11880\\331050359.py:11: DeprecationWarning: find_element_by_* commands are deprecated. Please use find_element() instead\n",
      "  btn = driver.find_element_by_id('memberlogin')\n",
      "C:\\Users\\klay1\\AppData\\Local\\Temp\\ipykernel_11880\\331050359.py:15: DeprecationWarning: find_element_by_* commands are deprecated. Please use find_element() instead\n",
      "  btn = driver.find_element_by_id('dropdownSTrelease')\n"
     ]
    },
    {
     "ename": "NoSuchWindowException",
     "evalue": "Message: no such window: target window already closed\nfrom unknown error: web view not found\n  (Session info: chrome=99.0.4844.51)\nStacktrace:\nBacktrace:\n\tOrdinal0 [0x007E69A3+2582947]\n\tOrdinal0 [0x0077A6D1+2139857]\n\tOrdinal0 [0x00673A98+1063576]\n\tOrdinal0 [0x0065C440+967744]\n\tOrdinal0 [0x006BAD09+1355017]\n\tOrdinal0 [0x006C7AD2+1407698]\n\tOrdinal0 [0x006B8366+1344358]\n\tOrdinal0 [0x00695176+1200502]\n\tOrdinal0 [0x00696066+1204326]\n\tGetHandleVerifier [0x0098BE02+1675858]\n\tGetHandleVerifier [0x00A4036C+2414524]\n\tGetHandleVerifier [0x0087BB01+560977]\n\tGetHandleVerifier [0x0087A8D3+556323]\n\tOrdinal0 [0x0078020E+2163214]\n\tOrdinal0 [0x00785078+2183288]\n\tOrdinal0 [0x007851C0+2183616]\n\tOrdinal0 [0x0078EE1C+2223644]\n\tBaseThreadInitThunk [0x77A2FA29+25]\n\tRtlGetAppContainerNamedObjectPath [0x77C57A9E+286]\n\tRtlGetAppContainerNamedObjectPath [0x77C57A6E+238]\n",
     "output_type": "error",
     "traceback": [
      "\u001b[1;31m---------------------------------------------------------------------------\u001b[0m",
      "\u001b[1;31mNoSuchWindowException\u001b[0m                     Traceback (most recent call last)",
      "\u001b[1;32mc:\\Users\\klay1\\OneDrive\\デスクトップ\\python\\.venv\\apps\\get_hour_data.ipynb Cell 2'\u001b[0m in \u001b[0;36m<module>\u001b[1;34m\u001b[0m\n\u001b[0;32m     <a href='vscode-notebook-cell:/c%3A/Users/klay1/OneDrive/%E3%83%87%E3%82%B9%E3%82%AF%E3%83%88%E3%83%83%E3%83%97/python/.venv/apps/get_hour_data.ipynb#ch0000001?line=12'>13</a>\u001b[0m sleep(\u001b[39m4\u001b[39m)\n\u001b[0;32m     <a href='vscode-notebook-cell:/c%3A/Users/klay1/OneDrive/%E3%83%87%E3%82%B9%E3%82%AF%E3%83%88%E3%83%83%E3%83%97/python/.venv/apps/get_hour_data.ipynb#ch0000001?line=13'>14</a>\u001b[0m \u001b[39m# click \"FX\" button\u001b[39;00m\n\u001b[1;32m---> <a href='vscode-notebook-cell:/c%3A/Users/klay1/OneDrive/%E3%83%87%E3%82%B9%E3%82%AF%E3%83%88%E3%83%83%E3%83%97/python/.venv/apps/get_hour_data.ipynb#ch0000001?line=14'>15</a>\u001b[0m btn \u001b[39m=\u001b[39m driver\u001b[39m.\u001b[39;49mfind_element_by_id(\u001b[39m'\u001b[39;49m\u001b[39mdropdownSTrelease\u001b[39;49m\u001b[39m'\u001b[39;49m)\n\u001b[0;32m     <a href='vscode-notebook-cell:/c%3A/Users/klay1/OneDrive/%E3%83%87%E3%82%B9%E3%82%AF%E3%83%88%E3%83%83%E3%83%97/python/.venv/apps/get_hour_data.ipynb#ch0000001?line=15'>16</a>\u001b[0m btn\u001b[39m.\u001b[39mclick()\n\u001b[0;32m     <a href='vscode-notebook-cell:/c%3A/Users/klay1/OneDrive/%E3%83%87%E3%82%B9%E3%82%AF%E3%83%88%E3%83%83%E3%83%97/python/.venv/apps/get_hour_data.ipynb#ch0000001?line=16'>17</a>\u001b[0m \u001b[39m# click \"Webトレーダー\" button\u001b[39;00m\n",
      "File \u001b[1;32mc:\\Users\\klay1\\OneDrive\\デスクトップ\\python\\.venv\\lib\\site-packages\\selenium\\webdriver\\remote\\webdriver.py:472\u001b[0m, in \u001b[0;36mWebDriver.find_element_by_id\u001b[1;34m(self, id_)\u001b[0m\n\u001b[0;32m    <a href='file:///c%3A/Users/klay1/OneDrive/%E3%83%87%E3%82%B9%E3%82%AF%E3%83%88%E3%83%83%E3%83%97/python/.venv/lib/site-packages/selenium/webdriver/remote/webdriver.py?line=450'>451</a>\u001b[0m \u001b[39m\"\"\"Finds an element by id.\u001b[39;00m\n\u001b[0;32m    <a href='file:///c%3A/Users/klay1/OneDrive/%E3%83%87%E3%82%B9%E3%82%AF%E3%83%88%E3%83%83%E3%83%97/python/.venv/lib/site-packages/selenium/webdriver/remote/webdriver.py?line=451'>452</a>\u001b[0m \n\u001b[0;32m    <a href='file:///c%3A/Users/klay1/OneDrive/%E3%83%87%E3%82%B9%E3%82%AF%E3%83%88%E3%83%83%E3%83%97/python/.venv/lib/site-packages/selenium/webdriver/remote/webdriver.py?line=452'>453</a>\u001b[0m \u001b[39m:Args:\u001b[39;00m\n\u001b[1;32m   (...)\u001b[0m\n\u001b[0;32m    <a href='file:///c%3A/Users/klay1/OneDrive/%E3%83%87%E3%82%B9%E3%82%AF%E3%83%88%E3%83%83%E3%83%97/python/.venv/lib/site-packages/selenium/webdriver/remote/webdriver.py?line=464'>465</a>\u001b[0m \u001b[39m        element = driver.find_element_by_id('foo')\u001b[39;00m\n\u001b[0;32m    <a href='file:///c%3A/Users/klay1/OneDrive/%E3%83%87%E3%82%B9%E3%82%AF%E3%83%88%E3%83%83%E3%83%97/python/.venv/lib/site-packages/selenium/webdriver/remote/webdriver.py?line=465'>466</a>\u001b[0m \u001b[39m\"\"\"\u001b[39;00m\n\u001b[0;32m    <a href='file:///c%3A/Users/klay1/OneDrive/%E3%83%87%E3%82%B9%E3%82%AF%E3%83%88%E3%83%83%E3%83%97/python/.venv/lib/site-packages/selenium/webdriver/remote/webdriver.py?line=466'>467</a>\u001b[0m warnings\u001b[39m.\u001b[39mwarn(\n\u001b[0;32m    <a href='file:///c%3A/Users/klay1/OneDrive/%E3%83%87%E3%82%B9%E3%82%AF%E3%83%88%E3%83%83%E3%83%97/python/.venv/lib/site-packages/selenium/webdriver/remote/webdriver.py?line=467'>468</a>\u001b[0m     \u001b[39m\"\u001b[39m\u001b[39mfind_element_by_* commands are deprecated. Please use find_element() instead\u001b[39m\u001b[39m\"\u001b[39m,\n\u001b[0;32m    <a href='file:///c%3A/Users/klay1/OneDrive/%E3%83%87%E3%82%B9%E3%82%AF%E3%83%88%E3%83%83%E3%83%97/python/.venv/lib/site-packages/selenium/webdriver/remote/webdriver.py?line=468'>469</a>\u001b[0m     \u001b[39mDeprecationWarning\u001b[39;00m,\n\u001b[0;32m    <a href='file:///c%3A/Users/klay1/OneDrive/%E3%83%87%E3%82%B9%E3%82%AF%E3%83%88%E3%83%83%E3%83%97/python/.venv/lib/site-packages/selenium/webdriver/remote/webdriver.py?line=469'>470</a>\u001b[0m     stacklevel\u001b[39m=\u001b[39m\u001b[39m2\u001b[39m,\n\u001b[0;32m    <a href='file:///c%3A/Users/klay1/OneDrive/%E3%83%87%E3%82%B9%E3%82%AF%E3%83%88%E3%83%83%E3%83%97/python/.venv/lib/site-packages/selenium/webdriver/remote/webdriver.py?line=470'>471</a>\u001b[0m )\n\u001b[1;32m--> <a href='file:///c%3A/Users/klay1/OneDrive/%E3%83%87%E3%82%B9%E3%82%AF%E3%83%88%E3%83%83%E3%83%97/python/.venv/lib/site-packages/selenium/webdriver/remote/webdriver.py?line=471'>472</a>\u001b[0m \u001b[39mreturn\u001b[39;00m \u001b[39mself\u001b[39;49m\u001b[39m.\u001b[39;49mfind_element(by\u001b[39m=\u001b[39;49mBy\u001b[39m.\u001b[39;49mID, value\u001b[39m=\u001b[39;49mid_)\n",
      "File \u001b[1;32mc:\\Users\\klay1\\OneDrive\\デスクトップ\\python\\.venv\\lib\\site-packages\\selenium\\webdriver\\remote\\webdriver.py:1244\u001b[0m, in \u001b[0;36mWebDriver.find_element\u001b[1;34m(self, by, value)\u001b[0m\n\u001b[0;32m   <a href='file:///c%3A/Users/klay1/OneDrive/%E3%83%87%E3%82%B9%E3%82%AF%E3%83%88%E3%83%83%E3%83%97/python/.venv/lib/site-packages/selenium/webdriver/remote/webdriver.py?line=1240'>1241</a>\u001b[0m     by \u001b[39m=\u001b[39m By\u001b[39m.\u001b[39mCSS_SELECTOR\n\u001b[0;32m   <a href='file:///c%3A/Users/klay1/OneDrive/%E3%83%87%E3%82%B9%E3%82%AF%E3%83%88%E3%83%83%E3%83%97/python/.venv/lib/site-packages/selenium/webdriver/remote/webdriver.py?line=1241'>1242</a>\u001b[0m     value \u001b[39m=\u001b[39m \u001b[39m'\u001b[39m\u001b[39m[name=\u001b[39m\u001b[39m\"\u001b[39m\u001b[39m%s\u001b[39;00m\u001b[39m\"\u001b[39m\u001b[39m]\u001b[39m\u001b[39m'\u001b[39m \u001b[39m%\u001b[39m value\n\u001b[1;32m-> <a href='file:///c%3A/Users/klay1/OneDrive/%E3%83%87%E3%82%B9%E3%82%AF%E3%83%88%E3%83%83%E3%83%97/python/.venv/lib/site-packages/selenium/webdriver/remote/webdriver.py?line=1243'>1244</a>\u001b[0m \u001b[39mreturn\u001b[39;00m \u001b[39mself\u001b[39;49m\u001b[39m.\u001b[39;49mexecute(Command\u001b[39m.\u001b[39;49mFIND_ELEMENT, {\n\u001b[0;32m   <a href='file:///c%3A/Users/klay1/OneDrive/%E3%83%87%E3%82%B9%E3%82%AF%E3%83%88%E3%83%83%E3%83%97/python/.venv/lib/site-packages/selenium/webdriver/remote/webdriver.py?line=1244'>1245</a>\u001b[0m     \u001b[39m'\u001b[39;49m\u001b[39musing\u001b[39;49m\u001b[39m'\u001b[39;49m: by,\n\u001b[0;32m   <a href='file:///c%3A/Users/klay1/OneDrive/%E3%83%87%E3%82%B9%E3%82%AF%E3%83%88%E3%83%83%E3%83%97/python/.venv/lib/site-packages/selenium/webdriver/remote/webdriver.py?line=1245'>1246</a>\u001b[0m     \u001b[39m'\u001b[39;49m\u001b[39mvalue\u001b[39;49m\u001b[39m'\u001b[39;49m: value})[\u001b[39m'\u001b[39m\u001b[39mvalue\u001b[39m\u001b[39m'\u001b[39m]\n",
      "File \u001b[1;32mc:\\Users\\klay1\\OneDrive\\デスクトップ\\python\\.venv\\lib\\site-packages\\selenium\\webdriver\\remote\\webdriver.py:424\u001b[0m, in \u001b[0;36mWebDriver.execute\u001b[1;34m(self, driver_command, params)\u001b[0m\n\u001b[0;32m    <a href='file:///c%3A/Users/klay1/OneDrive/%E3%83%87%E3%82%B9%E3%82%AF%E3%83%88%E3%83%83%E3%83%97/python/.venv/lib/site-packages/selenium/webdriver/remote/webdriver.py?line=421'>422</a>\u001b[0m response \u001b[39m=\u001b[39m \u001b[39mself\u001b[39m\u001b[39m.\u001b[39mcommand_executor\u001b[39m.\u001b[39mexecute(driver_command, params)\n\u001b[0;32m    <a href='file:///c%3A/Users/klay1/OneDrive/%E3%83%87%E3%82%B9%E3%82%AF%E3%83%88%E3%83%83%E3%83%97/python/.venv/lib/site-packages/selenium/webdriver/remote/webdriver.py?line=422'>423</a>\u001b[0m \u001b[39mif\u001b[39;00m response:\n\u001b[1;32m--> <a href='file:///c%3A/Users/klay1/OneDrive/%E3%83%87%E3%82%B9%E3%82%AF%E3%83%88%E3%83%83%E3%83%97/python/.venv/lib/site-packages/selenium/webdriver/remote/webdriver.py?line=423'>424</a>\u001b[0m     \u001b[39mself\u001b[39;49m\u001b[39m.\u001b[39;49merror_handler\u001b[39m.\u001b[39;49mcheck_response(response)\n\u001b[0;32m    <a href='file:///c%3A/Users/klay1/OneDrive/%E3%83%87%E3%82%B9%E3%82%AF%E3%83%88%E3%83%83%E3%83%97/python/.venv/lib/site-packages/selenium/webdriver/remote/webdriver.py?line=424'>425</a>\u001b[0m     response[\u001b[39m'\u001b[39m\u001b[39mvalue\u001b[39m\u001b[39m'\u001b[39m] \u001b[39m=\u001b[39m \u001b[39mself\u001b[39m\u001b[39m.\u001b[39m_unwrap_value(\n\u001b[0;32m    <a href='file:///c%3A/Users/klay1/OneDrive/%E3%83%87%E3%82%B9%E3%82%AF%E3%83%88%E3%83%83%E3%83%97/python/.venv/lib/site-packages/selenium/webdriver/remote/webdriver.py?line=425'>426</a>\u001b[0m         response\u001b[39m.\u001b[39mget(\u001b[39m'\u001b[39m\u001b[39mvalue\u001b[39m\u001b[39m'\u001b[39m, \u001b[39mNone\u001b[39;00m))\n\u001b[0;32m    <a href='file:///c%3A/Users/klay1/OneDrive/%E3%83%87%E3%82%B9%E3%82%AF%E3%83%88%E3%83%83%E3%83%97/python/.venv/lib/site-packages/selenium/webdriver/remote/webdriver.py?line=426'>427</a>\u001b[0m     \u001b[39mreturn\u001b[39;00m response\n",
      "File \u001b[1;32mc:\\Users\\klay1\\OneDrive\\デスクトップ\\python\\.venv\\lib\\site-packages\\selenium\\webdriver\\remote\\errorhandler.py:247\u001b[0m, in \u001b[0;36mErrorHandler.check_response\u001b[1;34m(self, response)\u001b[0m\n\u001b[0;32m    <a href='file:///c%3A/Users/klay1/OneDrive/%E3%83%87%E3%82%B9%E3%82%AF%E3%83%88%E3%83%83%E3%83%97/python/.venv/lib/site-packages/selenium/webdriver/remote/errorhandler.py?line=244'>245</a>\u001b[0m         alert_text \u001b[39m=\u001b[39m value[\u001b[39m'\u001b[39m\u001b[39malert\u001b[39m\u001b[39m'\u001b[39m]\u001b[39m.\u001b[39mget(\u001b[39m'\u001b[39m\u001b[39mtext\u001b[39m\u001b[39m'\u001b[39m)\n\u001b[0;32m    <a href='file:///c%3A/Users/klay1/OneDrive/%E3%83%87%E3%82%B9%E3%82%AF%E3%83%88%E3%83%83%E3%83%97/python/.venv/lib/site-packages/selenium/webdriver/remote/errorhandler.py?line=245'>246</a>\u001b[0m     \u001b[39mraise\u001b[39;00m exception_class(message, screen, stacktrace, alert_text)  \u001b[39m# type: ignore[call-arg]  # mypy is not smart enough here\u001b[39;00m\n\u001b[1;32m--> <a href='file:///c%3A/Users/klay1/OneDrive/%E3%83%87%E3%82%B9%E3%82%AF%E3%83%88%E3%83%83%E3%83%97/python/.venv/lib/site-packages/selenium/webdriver/remote/errorhandler.py?line=246'>247</a>\u001b[0m \u001b[39mraise\u001b[39;00m exception_class(message, screen, stacktrace)\n",
      "\u001b[1;31mNoSuchWindowException\u001b[0m: Message: no such window: target window already closed\nfrom unknown error: web view not found\n  (Session info: chrome=99.0.4844.51)\nStacktrace:\nBacktrace:\n\tOrdinal0 [0x007E69A3+2582947]\n\tOrdinal0 [0x0077A6D1+2139857]\n\tOrdinal0 [0x00673A98+1063576]\n\tOrdinal0 [0x0065C440+967744]\n\tOrdinal0 [0x006BAD09+1355017]\n\tOrdinal0 [0x006C7AD2+1407698]\n\tOrdinal0 [0x006B8366+1344358]\n\tOrdinal0 [0x00695176+1200502]\n\tOrdinal0 [0x00696066+1204326]\n\tGetHandleVerifier [0x0098BE02+1675858]\n\tGetHandleVerifier [0x00A4036C+2414524]\n\tGetHandleVerifier [0x0087BB01+560977]\n\tGetHandleVerifier [0x0087A8D3+556323]\n\tOrdinal0 [0x0078020E+2163214]\n\tOrdinal0 [0x00785078+2183288]\n\tOrdinal0 [0x007851C0+2183616]\n\tOrdinal0 [0x0078EE1C+2223644]\n\tBaseThreadInitThunk [0x77A2FA29+25]\n\tRtlGetAppContainerNamedObjectPath [0x77C57A9E+286]\n\tRtlGetAppContainerNamedObjectPath [0x77C57A6E+238]\n"
     ]
    }
   ],
   "source": [
    "# get exe file path\n",
    "driver = webdriver.Chrome('C:/Users/klay1/chromedriver')\n",
    "# get url\n",
    "driver.get('https://my.min-fx.tv/login?service=https%3A%2F%2Fmy.min-fx.tv%2Fmypage%2Fj_spring_cas_security_check%3Ftarget-path%3D%2Findex')\n",
    "# input ID,PASS\n",
    "texts = driver.find_element_by_name('username')\n",
    "texts.send_keys('klay.11.kc@gmail.com')\n",
    "texts = driver.find_element_by_name('password')\n",
    "texts.send_keys('AdGj1357')\n",
    "# click login button\n",
    "btn = driver.find_element_by_id('memberlogin')\n",
    "btn.click()\n",
    "sleep(4)\n",
    "# click \"FX\" button\n",
    "btn = driver.find_element_by_id('dropdownSTrelease')\n",
    "btn.click()\n",
    "# click \"Webトレーダー\" button\n",
    "btn = driver.find_element_by_link_text('Webトレーダー')\n",
    "btn.click()\n",
    "\n"
   ]
  },
  {
   "cell_type": "code",
   "execution_count": null,
   "metadata": {},
   "outputs": [
    {
     "name": "stderr",
     "output_type": "stream",
     "text": [
      "C:\\Users\\klay1\\AppData\\Local\\Temp\\ipykernel_9224\\2712373725.py:2: DeprecationWarning: find_elements_by_* commands are deprecated. Please use find_elements() instead\n",
      "  btn = driver.find_elements_by_class_name('ember-view')\n"
     ]
    }
   ],
   "source": [
    "# click \"IFD\" button\n",
    "btn = driver.find_elements_by_class_name('ember-view')\n",
    "btn[104].click()"
   ]
  },
  {
   "cell_type": "code",
   "execution_count": null,
   "metadata": {},
   "outputs": [
    {
     "name": "stderr",
     "output_type": "stream",
     "text": [
      "C:\\Users\\klay1\\AppData\\Local\\Temp\\ipykernel_9224\\4221603192.py:1: DeprecationWarning: find_elements_by_* commands are deprecated. Please use find_elements() instead\n",
      "  btn = driver.find_elements_by_class_name('ember-power-select-selected-item')\n"
     ]
    }
   ],
   "source": [
    "btn = driver.find_elements_by_class_name('ember-power-select-selected-item')\n",
    "btn[4].click()"
   ]
  },
  {
   "cell_type": "code",
   "execution_count": null,
   "metadata": {},
   "outputs": [
    {
     "name": "stderr",
     "output_type": "stream",
     "text": [
      "C:\\Users\\klay1\\AppData\\Local\\Temp\\ipykernel_9224\\583955620.py:1: DeprecationWarning: find_elements_by_* commands are deprecated. Please use find_elements() instead\n",
      "  btn = driver.find_elements_by_class_name('text-symbol-label')\n"
     ]
    }
   ],
   "source": [
    "btn = driver.find_elements_by_class_name('text-symbol-label')\n",
    "#select = Select(element)\n",
    "btn[4].click()\n",
    "\n",
    "#string = element.get_attribute('value')\n",
    "#string\n",
    "#driver.execute_script(\"element.setAttribute('style','color: red;')\", element)"
   ]
  },
  {
   "cell_type": "code",
   "execution_count": null,
   "metadata": {},
   "outputs": [
    {
     "name": "stderr",
     "output_type": "stream",
     "text": [
      "C:\\Users\\klay1\\AppData\\Local\\Temp\\ipykernel_9224\\2502066458.py:1: DeprecationWarning: find_elements_by_* commands are deprecated. Please use find_elements() instead\n",
      "  texts = driver.find_elements_by_class_name('form-control')\n"
     ]
    }
   ],
   "source": [
    "# error input 0.5 → 5\n",
    "\"\"\"\n",
    "texts = driver.find_elements_by_class_name('form-control')\n",
    "texts[0].send_keys('0.5')\n",
    "\"\"\""
   ]
  },
  {
   "cell_type": "code",
   "execution_count": null,
   "metadata": {},
   "outputs": [
    {
     "name": "stderr",
     "output_type": "stream",
     "text": [
      "C:\\Users\\klay1\\AppData\\Local\\Temp\\ipykernel_9224\\2885207899.py:10: DeprecationWarning: find_elements_by_* commands are deprecated. Please use find_elements() instead\n",
      "  texts = driver.find_elements_by_class_name('form-control')\n"
     ]
    }
   ],
   "source": [
    "#btn = driver.find_elements_by_class_name('off')\n",
    "# 新規注文\n",
    "# 初期値 買\n",
    "#btn[0].click()\n",
    "# 初期値 指値\n",
    "#btn[1].click()\n",
    "# 決済注文\n",
    "# 初期値 指値\n",
    "#btn[3].click()\n",
    "texts = driver.find_elements_by_class_name('form-control')\n",
    "texts[1].send_keys(75.34)\n",
    "texts[2].send_keys(80.43)\n",
    "texts[3].send_keys(74.12)"
   ]
  },
  {
   "cell_type": "code",
   "execution_count": null,
   "metadata": {},
   "outputs": [
    {
     "name": "stderr",
     "output_type": "stream",
     "text": [
      "C:\\Users\\klay1\\AppData\\Local\\Temp\\ipykernel_9224\\986794773.py:1: DeprecationWarning: find_element_by_* commands are deprecated. Please use find_element() instead\n",
      "  btn = driver.find_element_by_css_selector('.btn.btn-success.btn-lg.btn-block')\n"
     ]
    }
   ],
   "source": [
    "btn = driver.find_element_by_css_selector('.btn.btn-success.btn-lg.btn-block')\n",
    "#btn = driver.find_element_by_css_selector('.csv_download.btn.btn-lg.center-block')\n",
    "btn.click()"
   ]
  },
  {
   "cell_type": "code",
   "execution_count": null,
   "metadata": {},
   "outputs": [],
   "source": [
    "driver.quit()\n",
    "#btn = driver.find_elements_by_css_selector('.ng-binding')\n",
    "#btn[1].click()"
   ]
  }
 ],
 "metadata": {
  "interpreter": {
   "hash": "7ced00f92d35356c77de27c092a8fd8519e84bff1cc99f73af0749f9839ef7de"
  },
  "kernelspec": {
   "display_name": "Python 3.9.6 64-bit ('.venv': venv)",
   "language": "python",
   "name": "python3"
  },
  "language_info": {
   "codemirror_mode": {
    "name": "ipython",
    "version": 3
   },
   "file_extension": ".py",
   "mimetype": "text/x-python",
   "name": "python",
   "nbconvert_exporter": "python",
   "pygments_lexer": "ipython3",
   "version": "3.9.6"
  },
  "orig_nbformat": 4
 },
 "nbformat": 4,
 "nbformat_minor": 2
}
