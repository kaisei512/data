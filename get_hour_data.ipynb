{
 "cells": [
  {
   "cell_type": "code",
   "execution_count": 84,
   "metadata": {},
   "outputs": [],
   "source": [
    "from selenium import webdriver\n",
    "from selenium.webdriver.support.select import Select\n",
    "from selenium.webdriver.common.keys import Keys\n",
    "from time import sleep"
   ]
  },
  {
   "cell_type": "code",
   "execution_count": 85,
   "metadata": {},
   "outputs": [
    {
     "name": "stderr",
     "output_type": "stream",
     "text": [
      "C:\\Users\\klay1\\AppData\\Local\\Temp\\ipykernel_9224\\2886816553.py:1: DeprecationWarning: executable_path has been deprecated, please pass in a Service object\n",
      "  driver = webdriver.Chrome('C:/Users/klay1/chromedriver')\n"
     ]
    }
   ],
   "source": [
    "# get exe file path\n",
    "driver = webdriver.Chrome('C:/Users/klay1/chromedriver')\n",
    "# get url\n",
    "driver.get('https://my.min-fx.tv/login?service=https%3A%2F%2Fmy.min-fx.tv%2Fmypage%2Fj_spring_cas_security_check%3Ftarget-path%3D%2Findex')\n",
    "# input ID,PASS\n",
    "texts = driver.find_element_by_name('username')\n",
    "texts.send_keys('klay.11.kc@gmail.com')\n",
    "texts = driver.find_element_by_name('password')\n",
    "texts.send_keys('AdGj1357')\n",
    "# click login button\n",
    "btn = driver.find_element_by_id('memberlogin')\n",
    "btn.click()\n",
    "sleep(4)\n",
    "# click \"FX\" button\n",
    "btn = driver.find_element_by_id('dropdownSTrelease')\n",
    "btn.click()\n",
    "# click \"Webトレーダー\" button\n",
    "btn = driver.find_element_by_link_text('Webトレーダー')\n",
    "btn.click()\n",
    "\n"
   ]
  },
  {
   "cell_type": "code",
   "execution_count": 182,
   "metadata": {},
   "outputs": [
    {
     "name": "stderr",
     "output_type": "stream",
     "text": [
      "C:\\Users\\klay1\\AppData\\Local\\Temp\\ipykernel_9224\\2712373725.py:2: DeprecationWarning: find_elements_by_* commands are deprecated. Please use find_elements() instead\n",
      "  btn = driver.find_elements_by_class_name('ember-view')\n"
     ]
    }
   ],
   "source": [
    "# click \"IFD\" button\n",
    "btn = driver.find_elements_by_class_name('ember-view')\n",
    "btn[104].click()"
   ]
  },
  {
   "cell_type": "code",
   "execution_count": 183,
   "metadata": {},
   "outputs": [
    {
     "name": "stderr",
     "output_type": "stream",
     "text": [
      "C:\\Users\\klay1\\AppData\\Local\\Temp\\ipykernel_9224\\4221603192.py:1: DeprecationWarning: find_elements_by_* commands are deprecated. Please use find_elements() instead\n",
      "  btn = driver.find_elements_by_class_name('ember-power-select-selected-item')\n"
     ]
    }
   ],
   "source": [
    "btn = driver.find_elements_by_class_name('ember-power-select-selected-item')\n",
    "btn[4].click()"
   ]
  },
  {
   "cell_type": "code",
   "execution_count": 184,
   "metadata": {},
   "outputs": [
    {
     "name": "stderr",
     "output_type": "stream",
     "text": [
      "C:\\Users\\klay1\\AppData\\Local\\Temp\\ipykernel_9224\\583955620.py:1: DeprecationWarning: find_elements_by_* commands are deprecated. Please use find_elements() instead\n",
      "  btn = driver.find_elements_by_class_name('text-symbol-label')\n"
     ]
    }
   ],
   "source": [
    "btn = driver.find_elements_by_class_name('text-symbol-label')\n",
    "#select = Select(element)\n",
    "btn[4].click()\n",
    "\n",
    "#string = element.get_attribute('value')\n",
    "#string\n",
    "#driver.execute_script(\"element.setAttribute('style','color: red;')\", element)"
   ]
  },
  {
   "cell_type": "code",
   "execution_count": 158,
   "metadata": {},
   "outputs": [
    {
     "name": "stderr",
     "output_type": "stream",
     "text": [
      "C:\\Users\\klay1\\AppData\\Local\\Temp\\ipykernel_9224\\2502066458.py:1: DeprecationWarning: find_elements_by_* commands are deprecated. Please use find_elements() instead\n",
      "  texts = driver.find_elements_by_class_name('form-control')\n"
     ]
    }
   ],
   "source": [
    "# error input 0.5 → 5\n",
    "\"\"\"\n",
    "texts = driver.find_elements_by_class_name('form-control')\n",
    "texts[0].send_keys('0.5')\n",
    "\"\"\""
   ]
  },
  {
   "cell_type": "code",
   "execution_count": 195,
   "metadata": {},
   "outputs": [
    {
     "name": "stderr",
     "output_type": "stream",
     "text": [
      "C:\\Users\\klay1\\AppData\\Local\\Temp\\ipykernel_9224\\2885207899.py:10: DeprecationWarning: find_elements_by_* commands are deprecated. Please use find_elements() instead\n",
      "  texts = driver.find_elements_by_class_name('form-control')\n"
     ]
    }
   ],
   "source": [
    "#btn = driver.find_elements_by_class_name('off')\n",
    "# 新規注文\n",
    "# 初期値 買\n",
    "#btn[0].click()\n",
    "# 初期値 指値\n",
    "#btn[1].click()\n",
    "# 決済注文\n",
    "# 初期値 指値\n",
    "#btn[3].click()\n",
    "texts = driver.find_elements_by_class_name('form-control')\n",
    "texts[1].send_keys(75.34)\n",
    "texts[2].send_keys(80.43)\n",
    "texts[3].send_keys(74.12)"
   ]
  },
  {
   "cell_type": "code",
   "execution_count": 194,
   "metadata": {},
   "outputs": [
    {
     "name": "stderr",
     "output_type": "stream",
     "text": [
      "C:\\Users\\klay1\\AppData\\Local\\Temp\\ipykernel_9224\\986794773.py:1: DeprecationWarning: find_element_by_* commands are deprecated. Please use find_element() instead\n",
      "  btn = driver.find_element_by_css_selector('.btn.btn-success.btn-lg.btn-block')\n"
     ]
    }
   ],
   "source": [
    "btn = driver.find_element_by_css_selector('.btn.btn-success.btn-lg.btn-block')\n",
    "#btn = driver.find_element_by_css_selector('.csv_download.btn.btn-lg.center-block')\n",
    "btn.click()"
   ]
  },
  {
   "cell_type": "code",
   "execution_count": 66,
   "metadata": {},
   "outputs": [],
   "source": [
    "driver.quit()\n",
    "#btn = driver.find_elements_by_css_selector('.ng-binding')\n",
    "#btn[1].click()"
   ]
  }
 ],
 "metadata": {
  "interpreter": {
   "hash": "7ced00f92d35356c77de27c092a8fd8519e84bff1cc99f73af0749f9839ef7de"
  },
  "kernelspec": {
   "display_name": "Python 3.9.6 64-bit ('.venv': venv)",
   "language": "python",
   "name": "python3"
  },
  "language_info": {
   "codemirror_mode": {
    "name": "ipython",
    "version": 3
   },
   "file_extension": ".py",
   "mimetype": "text/x-python",
   "name": "python",
   "nbconvert_exporter": "python",
   "pygments_lexer": "ipython3",
   "version": "3.9.6"
  },
  "orig_nbformat": 4
 },
 "nbformat": 4,
 "nbformat_minor": 2
}
